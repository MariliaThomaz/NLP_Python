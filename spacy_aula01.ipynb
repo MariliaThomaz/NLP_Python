{
  "nbformat": 4,
  "nbformat_minor": 0,
  "metadata": {
    "colab": {
      "provenance": [],
      "toc_visible": true,
      "authorship_tag": "ABX9TyMWNXpL3wX2DV1Sf9b+J3kD",
      "include_colab_link": true
    },
    "kernelspec": {
      "name": "python3",
      "display_name": "Python 3"
    },
    "language_info": {
      "name": "python"
    }
  },
  "cells": [
    {
      "cell_type": "markdown",
      "metadata": {
        "id": "view-in-github",
        "colab_type": "text"
      },
      "source": [
        "<a href=\"https://colab.research.google.com/github/MariliaThomaz/NLP_Python/blob/main/spacy_aula01.ipynb\" target=\"_parent\"><img src=\"https://colab.research.google.com/assets/colab-badge.svg\" alt=\"Open In Colab\"/></a>"
      ]
    },
    {
      "cell_type": "code",
      "execution_count": null,
      "metadata": {
        "id": "cODuHfWIoTpT"
      },
      "outputs": [],
      "source": [
        "# estalando uma nova versão spacy\n",
        "\n",
        "!pip install -U spacy==3.2.0"
      ]
    },
    {
      "cell_type": "markdown",
      "source": [],
      "metadata": {
        "id": "1EH02r7upIL1"
      }
    },
    {
      "cell_type": "code",
      "source": [
        "# baixar um modelo pré treinado\n",
        "!python -m spacy download 'pt_core_news_lg'"
      ],
      "metadata": {
        "id": "fnVIpCkYpJ2w"
      },
      "execution_count": null,
      "outputs": []
    },
    {
      "cell_type": "code",
      "source": [
        "import spacy\n",
        "nlp = spacy.load('pt_core_news_lg')"
      ],
      "metadata": {
        "id": "8ToUNugdpKH4"
      },
      "execution_count": 3,
      "outputs": []
    },
    {
      "cell_type": "code",
      "source": [
        "print(type(nlp))"
      ],
      "metadata": {
        "id": "xGR-dw1ipKaR",
        "outputId": "80f8a439-ff4b-4115-e2e3-4882b26a3f14",
        "colab": {
          "base_uri": "https://localhost:8080/"
        }
      },
      "execution_count": 5,
      "outputs": [
        {
          "output_type": "stream",
          "name": "stdout",
          "text": [
            "<class 'spacy.lang.pt.Portuguese'>\n"
          ]
        }
      ]
    },
    {
      "cell_type": "code",
      "source": [
        "# vendo pipeline padrão\n",
        "print(nlp.pipe_names)"
      ],
      "metadata": {
        "id": "FH6c_ghIpKde",
        "outputId": "51a6153b-98b7-4113-f0e4-491c3b48e41f",
        "colab": {
          "base_uri": "https://localhost:8080/"
        }
      },
      "execution_count": 6,
      "outputs": [
        {
          "output_type": "stream",
          "name": "stdout",
          "text": [
            "['tok2vec', 'morphologizer', 'parser', 'attribute_ruler', 'lemmatizer', 'ner']\n"
          ]
        }
      ]
    },
    {
      "cell_type": "code",
      "source": [
        "# criando um documento, criando um objeto Dorq no Spacy\n",
        "documeto = nlp(\"Marilia esta, mais 60% da formação do estagio. O estudos são sempre hequiquesedor, Marilia  está  muito feliz\")"
      ],
      "metadata": {
        "id": "wfTMss5rpKg4"
      },
      "execution_count": 7,
      "outputs": []
    },
    {
      "cell_type": "code",
      "source": [
        "# vendo o tamanho do vocabulário do documento\n",
        "len(documeto.vocab)"
      ],
      "metadata": {
        "id": "hzlS17NqpKkv",
        "outputId": "e68e7b12-0686-4f88-b84e-40c833eda7de",
        "colab": {
          "base_uri": "https://localhost:8080/"
        }
      },
      "execution_count": 8,
      "outputs": [
        {
          "output_type": "execute_result",
          "data": {
            "text/plain": [
              "367"
            ]
          },
          "metadata": {},
          "execution_count": 8
        }
      ]
    },
    {
      "cell_type": "code",
      "source": [
        "type(documeto)"
      ],
      "metadata": {
        "id": "RaqOwSjl1N_4",
        "outputId": "94a3c847-3c2b-4d68-81fb-d086caf85c47",
        "colab": {
          "base_uri": "https://localhost:8080/"
        }
      },
      "execution_count": 9,
      "outputs": [
        {
          "output_type": "execute_result",
          "data": {
            "text/plain": [
              "spacy.tokens.doc.Doc"
            ]
          },
          "metadata": {},
          "execution_count": 9
        }
      ]
    }
  ]
}